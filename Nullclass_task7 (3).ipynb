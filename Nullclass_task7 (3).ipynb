{
 "cells": [
  {
   "cell_type": "code",
   "execution_count": null,
   "id": "110b3908",
   "metadata": {},
   "outputs": [],
   "source": [
    "#Create a feature to translate the English word to Hindi and it should not translate if the English starts with vowels and other words it should convert . If we enter a English word starts with Vowels it should show an error message as This word starts with Vowels provide some other words and this model should\n",
    "#be able to convert english word starts with vowels around 9 PM to 10 PM"
   ]
  },
  {
   "cell_type": "code",
   "execution_count": 1,
   "id": "54cf182d",
   "metadata": {},
   "outputs": [
    {
     "name": "stdout",
     "output_type": "stream",
     "text": [
      "Translation feature is only available between 9 PM and 10 PM.\n"
     ]
    }
   ],
   "source": [
    "from textblob import TextBlob\n",
    "import datetime\n",
    "#Logic for check vowels\n",
    "def translate_to_hindi(word):\n",
    "    if word[0].lower() in ['a', 'e', 'i', 'o', 'u']:\n",
    "        print(\"Error: This word starts with a vowel. Provide some other word.\")\n",
    "    else:\n",
    "        translation = TextBlob(word).translate(to='hi')\n",
    "        print(f\"{word} (English) => {translation} (Hindi)\")\n",
    "#Logic for Time between 9 to 10 pm\n",
    "def main():\n",
    "    current_time = datetime.datetime.now().time()\n",
    "    if 21 <= current_time.hour < 22:  # Between 9 PM and 10 PM\n",
    "        word = input(\"Enter an English word to translate to Hindi: \")\n",
    "        translate_to_hindi(word)\n",
    "    else:\n",
    "        print(\"Translation feature is only available between 9 PM and 10 PM.\")\n",
    "\n",
    "if __name__ == \"__main__\":\n",
    "    main()\n"
   ]
  },
  {
   "cell_type": "code",
   "execution_count": null,
   "id": "dc7fba1d",
   "metadata": {},
   "outputs": [],
   "source": []
  },
  {
   "cell_type": "code",
   "execution_count": 1,
   "id": "f567fd72",
   "metadata": {},
   "outputs": [
    {
     "name": "stdout",
     "output_type": "stream",
     "text": [
      "Requirement already satisfied: textblob in c:\\users\\hp\\anaconda3\\lib\\site-packages (0.18.0.post0)\n",
      "Requirement already satisfied: nltk>=3.8 in c:\\users\\hp\\anaconda3\\lib\\site-packages (from textblob) (3.8.1)\n",
      "Requirement already satisfied: regex>=2021.8.3 in c:\\users\\hp\\anaconda3\\lib\\site-packages (from nltk>=3.8->textblob) (2022.7.9)\n",
      "Requirement already satisfied: joblib in c:\\users\\hp\\anaconda3\\lib\\site-packages (from nltk>=3.8->textblob) (1.1.0)\n",
      "Requirement already satisfied: tqdm in c:\\users\\hp\\anaconda3\\lib\\site-packages (from nltk>=3.8->textblob) (4.64.1)\n",
      "Requirement already satisfied: click in c:\\users\\hp\\anaconda3\\lib\\site-packages (from nltk>=3.8->textblob) (8.0.4)\n",
      "Requirement already satisfied: colorama in c:\\users\\hp\\anaconda3\\lib\\site-packages (from click->nltk>=3.8->textblob) (0.4.5)\n"
     ]
    }
   ],
   "source": [
    "!pip install textblob\n",
    "\n"
   ]
  },
  {
   "cell_type": "code",
   "execution_count": 2,
   "id": "618d4a81",
   "metadata": {},
   "outputs": [],
   "source": [
    "\n",
    "#########################python gui################################\n",
    "from textblob import TextBlob\n",
    "import tkinter as tk\n",
    "from tkinter import messagebox\n",
    "import datetime\n",
    "\n",
    "# Function to translate English word to Hindi\n",
    "def translate_to_hindi(word):\n",
    "    if word[0].lower() in ['a', 'e', 'i', 'o', 'u']:\n",
    "        messagebox.showerror(\"Translation Error\", \"Error: This word starts with a vowel. Provide some other word.\")\n",
    "    else:\n",
    "        translation = TextBlob(word).translate(to='hi')\n",
    "        messagebox.showinfo(\"Translation Result\", f\"{word} (English) => {translation} (Hindi)\")\n",
    "\n",
    "# GUI class\n",
    "class TranslationGUI:\n",
    "    def __init__(self, root):\n",
    "        self.root = root\n",
    "        self.root.title(\"English to Hindi Translator\")\n",
    "\n",
    "        self.label_info = tk.Label(self.root, text=\"Enter an English word to translate to Hindi:\")\n",
    "        self.label_info.pack(pady=10)\n",
    "\n",
    "        self.entry_word = tk.Entry(self.root, width=30)\n",
    "        self.entry_word.pack(pady=10)\n",
    "\n",
    "        self.button_translate = tk.Button(self.root, text=\"Translate\", command=self.translate_word)\n",
    "        self.button_translate.pack()\n",
    "\n",
    "        self.button_exit = tk.Button(self.root, text=\"Exit\", command=self.root.quit)\n",
    "        self.button_exit.pack(pady=10)\n",
    "\n",
    "    def translate_word(self):\n",
    "        word = self.entry_word.get().strip()\n",
    "        \n",
    "        if not word:\n",
    "            messagebox.showwarning(\"Input Error\", \"Please enter an English word.\")\n",
    "            return\n",
    "\n",
    "        current_time = datetime.datetime.now().time()\n",
    "        if 21 <= current_time.hour < 22:  # Between 9 PM and 10 PM\n",
    "            translate_to_hindi(word)\n",
    "        else:\n",
    "            messagebox.showinfo(\"Time Restriction\", \"Translation feature is only available between 9 PM and 10 PM.\")\n",
    "\n",
    "# Main function\n",
    "def main():\n",
    "    root = tk.Tk()\n",
    "    app = TranslationGUI(root)\n",
    "    root.mainloop()\n",
    "\n",
    "if __name__ == \"__main__\":\n",
    "    main()\n"
   ]
  },
  {
   "cell_type": "code",
   "execution_count": null,
   "id": "1c6b8a63",
   "metadata": {},
   "outputs": [],
   "source": []
  }
 ],
 "metadata": {
  "kernelspec": {
   "display_name": "Python 3 (ipykernel)",
   "language": "python",
   "name": "python3"
  },
  "language_info": {
   "codemirror_mode": {
    "name": "ipython",
    "version": 3
   },
   "file_extension": ".py",
   "mimetype": "text/x-python",
   "name": "python",
   "nbconvert_exporter": "python",
   "pygments_lexer": "ipython3",
   "version": "3.9.13"
  }
 },
 "nbformat": 4,
 "nbformat_minor": 5
}
